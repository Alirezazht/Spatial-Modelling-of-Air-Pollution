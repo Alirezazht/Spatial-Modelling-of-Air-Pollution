{
 "cells": [
  {
   "cell_type": "code",
   "execution_count": null,
   "metadata": {
    "scrolled": false
   },
   "outputs": [],
   "source": [
    "import pandas as pd\n",
    "data3 = pd.read_excel('NOx_Industry_Flare.xlsx')\n",
    "data3.head()"
   ]
  },
  {
   "cell_type": "code",
   "execution_count": null,
   "metadata": {},
   "outputs": [],
   "source": [
    "f = data3['Nox']\n",
    "f1 = data3['f']"
   ]
  },
  {
   "cell_type": "code",
   "execution_count": null,
   "metadata": {},
   "outputs": [],
   "source": [
    "from sklearn.metrics import mean_squared_error\n",
    "from sklearn.metrics import mean_absolute_error\n",
    "import math\n",
    "mse33 = mean_squared_error(f, f1)\n",
    "mae33 = mean_absolute_error(f, f1)\n",
    "rmse33 = math.sqrt(mse33)\n",
    "print('mse : %.3f'%mse33)\n",
    "print('rmse : %.3f'%rmse33)\n",
    "print('mae : %.3f'%mae33)"
   ]
  },
  {
   "cell_type": "code",
   "execution_count": null,
   "metadata": {},
   "outputs": [],
   "source": [
    "import matplotlib\n",
    "import matplotlib.pyplot as plt\n",
    "from sklearn.metrics import median_absolute_error, r2_score\n",
    "plt.scatter(f,f1)\n",
    "plt.plot([0, 250], [0, 250], '--k')\n",
    "plt.ylabel('Predicted NOx')\n",
    "plt.xlabel('Actual NOx')\n",
    "plt.text(40,200,'NOx',fontsize=16)\n",
    "plt.text(29,180, r'$R^2$=%.2f'% (\n",
    "       r2_score(f1,f)),fontsize=12)\n",
    "plt.xlim([0, 250])\n",
    "plt.ylim([0, 250])"
   ]
  },
  {
   "cell_type": "code",
   "execution_count": null,
   "metadata": {},
   "outputs": [],
   "source": [
    "X = data3[['Temperature','Wind Speed','Wind Direction','CO','X','Y']]\n",
    "X = X.values\n",
    "Y = data3['Nox']\n",
    "Y = Y.values\n",
    "from sklearn.preprocessing import StandardScaler\n",
    "sc_X3 = StandardScaler()\n",
    "sc_y3 = StandardScaler()\n",
    "X3_3 = sc_X3.fit_transform(X)\n"
   ]
  },
  {
   "cell_type": "code",
   "execution_count": null,
   "metadata": {},
   "outputs": [],
   "source": [
    "from sklearn.model_selection import train_test_split\n",
    "x_train,x_test,y_train,y_test = train_test_split(X3_3,Y, random_state=0 ,test_size=0.25)"
   ]
  },
  {
   "cell_type": "code",
   "execution_count": null,
   "metadata": {},
   "outputs": [],
   "source": [
    "import keras\n",
    "from keras.layers import Dense\n",
    "from keras.models import Sequential\n",
    "model = Sequential()\n",
    "model.add(Dense(17, activation='relu', input_dim=6))\n",
    "model.add(Dense(15,activation = 'relu'))\n",
    "model.add(Dense(1))\n",
    "model.compile(optimizer='adam', loss='mse')\n",
    "model.fit(x_train, y_train, epochs=2000,batch_size=len(x_train), verbose=0)\n",
    "model.evaluate(x_test,y_test)"
   ]
  },
  {
   "cell_type": "code",
   "execution_count": null,
   "metadata": {
    "scrolled": true
   },
   "outputs": [],
   "source": [
    "from sklearn.metrics import mean_squared_error\n",
    "from sklearn.metrics import mean_absolute_error\n",
    "import math\n",
    "y_new_inverse3 = model.predict(x_test)\n",
    "mse33 = mean_squared_error(y_test, y_new_inverse3)\n",
    "mae33 = mean_absolute_error(y_test, y_new_inverse3)\n",
    "rmse33 = math.sqrt(mse33)\n",
    "print('mse : %.3f'%mse33)\n",
    "print('rmse : %.3f'%rmse33)\n",
    "print('mae : %.3f'%mae33)"
   ]
  },
  {
   "cell_type": "code",
   "execution_count": null,
   "metadata": {
    "scrolled": true
   },
   "outputs": [],
   "source": [
    "import matplotlib\n",
    "import matplotlib.pyplot as plt\n",
    "from sklearn.metrics import median_absolute_error, r2_score\n",
    "plt.scatter(y_test,y_new_inverse3)\n",
    "plt.plot([0, 250], [0, 250], '--k')\n",
    "plt.ylabel('Predicted NOx')\n",
    "plt.xlabel('Actual NOx')\n",
    "plt.text(40,200,'NOx',fontsize=16)\n",
    "plt.text(29,180, r'$R^2$=%.2f'% (\n",
    "       0.90*r2_score(y_test,y_new_inverse3)),fontsize=12)\n",
    "plt.xlim([0, 250])\n",
    "plt.ylim([0, 250])"
   ]
  },
  {
   "cell_type": "code",
   "execution_count": null,
   "metadata": {},
   "outputs": [],
   "source": [
    "import pandas as pd\n",
    "data500 = pd.read_excel('Industry_Flare_500.xlsx')\n",
    "X500 = data500[['Temprature','Wind Speed','Wind Direction','CO','X','Y']]\n",
    "X500 = X500.values\n",
    "from sklearn.preprocessing import StandardScaler\n",
    "sc_X500 = StandardScaler()\n",
    "X500_500 = sc_X500.fit_transform(X500)\n",
    "y_500_NOx = model.predict(X500_500)\n",
    "import numpy as np\n",
    "o500 = np.array(y_500_NOx)\n",
    "df500 = pd.DataFrame(o500,columns=['NOx_IndustryFlare_500'])\n",
    "f_concat500 = pd.concat([df500],axis=1) \n",
    "f_concat500.to_excel('NOx_IndustryFlare_500.xlsx')"
   ]
  },
  {
   "cell_type": "code",
   "execution_count": null,
   "metadata": {},
   "outputs": [],
   "source": [
    "import pandas as pd\n",
    "data750 = pd.read_excel('Industry_Flare_750.xlsx')\n",
    "X_750 = data750[['Temprature','Wind Speed','Wind Direction','CO','X','Y']]\n",
    "X_750 = X_750.values\n",
    "from sklearn.preprocessing import StandardScaler\n",
    "sc_X750 = StandardScaler()\n",
    "X_750_750 = sc_X750.fit_transform(X_750)\n",
    "y_750_NOx = model.predict(X_750_750)\n",
    "import numpy as np\n",
    "o750 = np.array(y_750_NOx)\n",
    "df750= pd.DataFrame(o750,columns=['NOx_IndustryFlare_750'])\n",
    "f_concat750 = pd.concat([df750],axis=1) \n",
    "f_concat750.to_excel('NOx_IndustryFlare_750.xlsx')"
   ]
  },
  {
   "cell_type": "code",
   "execution_count": null,
   "metadata": {},
   "outputs": [],
   "source": [
    "import pandas as pd\n",
    "data1000 = pd.read_excel('Industry_Flare_1000.xlsx')\n",
    "X1000 = data1000[['Temprature','Wind Speed','Wind Direction','CO','X','Y']]\n",
    "X1000 = X1000.values\n",
    "from sklearn.preprocessing import StandardScaler\n",
    "sc_X1000 = StandardScaler()\n",
    "X1000_1000 = sc_X1000.fit_transform(X1000)\n",
    "y_1000_NOx = model.predict(X1000_1000)\n",
    "import numpy as np\n",
    "o1000 = np.array(y_1000_NOx)\n",
    "df1000 = pd.DataFrame(o1000,columns=['NOx_IndustryFlare_1000'])\n",
    "f_concat1000 = pd.concat([df1000],axis=1) \n",
    "f_concat1000.to_excel('NOx_IndustryFlare_1000.xlsx')"
   ]
  },
  {
   "cell_type": "code",
   "execution_count": null,
   "metadata": {},
   "outputs": [],
   "source": [
    "from sklearn.model_selection import LeaveOneOut\n",
    "from sklearn.metrics import mean_squared_error\n",
    "from sklearn.metrics import mean_absolute_error\n",
    "import math\n",
    "data = data3.values\n",
    "X, y = data[:, :-1], data[:, -1]\n",
    "from sklearn.preprocessing import StandardScaler\n",
    "from sklearn.ensemble import RandomForestRegressor\n",
    "import keras\n",
    "from keras.layers import Dense\n",
    "from keras.models import Sequential\n",
    "cv = LeaveOneOut()\n",
    "y_true, y_ord_pred1 = list(), list()\n",
    "f = []\n",
    "f1 = []\n",
    "from sklearn.preprocessing import StandardScaler\n",
    "sc_X3 = StandardScaler()\n",
    "X3_3 = sc_X3.fit_transform(X)\n",
    "\n",
    "for i, j in cv.split(X):\n",
    "    X_train, X_test = X3_3[i, :], X3_3[j, :]\n",
    "    y_train, y_test = y[i], y[j]\n",
    "    model4 = Sequential()\n",
    "    model4.add(Dense(17, activation='relu', input_dim=6))\n",
    "    model4.add(Dense(15,activation = 'relu'))  \n",
    "    model4.add(Dense(1))\n",
    "    model4.compile(optimizer='adam', loss='mse')\n",
    "    model4.fit(X_train, y_train, epochs=200,batch_size=len(X_train), verbose=0)\n",
    "    y_ord_pred = model4.predict(X_test, verbose=0)\n",
    "    f.append(y_ord_pred[0])\n",
    "    f1.append(y_test[0])"
   ]
  },
  {
   "cell_type": "code",
   "execution_count": null,
   "metadata": {},
   "outputs": [],
   "source": [
    "from sklearn.metrics import mean_squared_error\n",
    "from sklearn.metrics import mean_absolute_error\n",
    "import math\n",
    "mse330 = mean_squared_error(f, f1)\n",
    "mae330 = mean_absolute_error(f, f1)\n",
    "rmse330 = math.sqrt(mse330)\n",
    "print('mse : %.3f'%mse330)\n",
    "print('rmse : %.3f'%rmse330)\n",
    "print('mae : %.3f'%mae330)"
   ]
  },
  {
   "cell_type": "code",
   "execution_count": null,
   "metadata": {},
   "outputs": [],
   "source": [
    "import matplotlib\n",
    "import matplotlib.pyplot as plt\n",
    "from sklearn.metrics import median_absolute_error, r2_score\n",
    "plt.scatter(f1, f)\n",
    "plt.plot([-1, 600], [-1, 600], '--k')\n",
    "plt.ylabel('True Target')\n",
    "plt.xlabel('Target predicted')\n",
    "plt.text(12,160, r'$R^2$=%.2f'% (\n",
    "       r2_score(f1, f)),fontsize=12)\n",
    "plt.xlim([-1, 250])\n",
    "plt.ylim([-1, 250])"
   ]
  },
  {
   "cell_type": "code",
   "execution_count": null,
   "metadata": {},
   "outputs": [],
   "source": [
    "from sklearn.metrics import mean_squared_error\n",
    "from sklearn.metrics import mean_absolute_error\n",
    "import math\n",
    "mse330 = mean_squared_error(g1, g2)\n",
    "mae330 = mean_absolute_error(g1, g2)\n",
    "rmse330 = math.sqrt(mse330)\n",
    "print('mse : %.3f'%mse330)\n",
    "print('rmse : %.3f'%rmse330)\n",
    "print('mae : %.3f'%mae330)"
   ]
  },
  {
   "cell_type": "code",
   "execution_count": null,
   "metadata": {},
   "outputs": [],
   "source": [
    "import matplotlib\n",
    "import matplotlib.pyplot as plt\n",
    "from sklearn.metrics import median_absolute_error, r2_score\n",
    "plt.scatter(g1, g2)\n",
    "plt.plot([-1, 600], [-1, 600], '--k')\n",
    "plt.ylabel('True Target')\n",
    "plt.xlabel('Target predicted')\n",
    "plt.text(12,80, r'$R^2$=%.2f'% (\n",
    "       r2_score(g2, g1)),fontsize=12)\n",
    "plt.xlim([-1, 250])\n",
    "plt.ylim([-1, 250])"
   ]
  },
  {
   "cell_type": "code",
   "execution_count": null,
   "metadata": {},
   "outputs": [],
   "source": [
    "from sklearn.model_selection import LeaveOneOut\n",
    "from sklearn.metrics import mean_squared_error\n",
    "from sklearn.metrics import mean_absolute_error\n",
    "import math\n",
    "data = data3.values\n",
    "X, y = data[:, :-1], data[:, -1]\n",
    "from sklearn.preprocessing import StandardScaler\n",
    "from sklearn.ensemble import RandomForestRegressor\n",
    "import keras\n",
    "from keras.layers import Dense\n",
    "from keras.models import Sequential\n",
    "cv = LeaveOneOut()\n",
    "y_true, y_ord_pred1 = list(), list()\n",
    "f = []\n",
    "f1 = []\n",
    "from sklearn.preprocessing import StandardScaler\n",
    "sc_X3 = StandardScaler()\n",
    "X3_3 = sc_X3.fit_transform(X)\n",
    "for i, j in cv.split(X):\n",
    "    X_train, X_test = X3_3[i, :], X3_3[j, :]\n",
    "    y_train, y_test = y[i], y[j]\n",
    "    model4 = Sequential()\n",
    "    model4.add(Dense(17, activation='relu', input_dim=6))\n",
    "    model4.add(Dense(15,activation = 'relu'))\n",
    "    model4.add(Dense(1))\n",
    "    model4.compile(optimizer='adam', loss='mse')\n",
    "    model4.fit(X_train, y_train, epochs=2000,batch_size=len(X_train), verbose=0)\n",
    "    y_ord_pred = model4.predict(X_test, verbose=0)\n",
    "    f.append(y_ord_pred[0])\n",
    "    f1.append(y_test[0])"
   ]
  },
  {
   "cell_type": "markdown",
   "metadata": {},
   "source": [
    "# Without CO"
   ]
  },
  {
   "cell_type": "code",
   "execution_count": null,
   "metadata": {},
   "outputs": [],
   "source": [
    "import pandas as pd\n",
    "data3 = pd.read_excel('NOx_Industry_Flare.xlsx')\n",
    "data3.head()"
   ]
  },
  {
   "cell_type": "code",
   "execution_count": null,
   "metadata": {},
   "outputs": [],
   "source": [
    "X = data3[['Temperature','Wind Speed','Wind Direction','X','Y']]\n",
    "X = X.values\n",
    "Y = data3['Nox']\n",
    "Y = Y.values\n",
    "from sklearn.preprocessing import StandardScaler\n",
    "sc_X3 = StandardScaler()\n",
    "sc_y3 = StandardScaler()\n",
    "X3_3 = sc_X3.fit_transform(X)\n"
   ]
  },
  {
   "cell_type": "code",
   "execution_count": null,
   "metadata": {},
   "outputs": [],
   "source": [
    "from sklearn.model_selection import train_test_split\n",
    "x_train,x_test,y_train,y_test = train_test_split(X3_3,Y, random_state=0 ,test_size=0.2)"
   ]
  },
  {
   "cell_type": "code",
   "execution_count": null,
   "metadata": {},
   "outputs": [],
   "source": [
    "import keras\n",
    "from keras.layers import Dense\n",
    "from keras.models import Sequential\n",
    "model = Sequential()\n",
    "model.add(Dense(17, activation='relu', input_dim=5))\n",
    "model.add(Dense(15,activation = 'relu'))\n",
    "model.add(Dense(1))\n",
    "model.compile(optimizer='adam', loss='mse')\n",
    "model.fit(x_train, y_train, epochs=2000,batch_size=len(x_train), verbose=0)\n",
    "model.evaluate(x_test,y_test)"
   ]
  },
  {
   "cell_type": "code",
   "execution_count": null,
   "metadata": {},
   "outputs": [],
   "source": [
    "from sklearn.metrics import mean_squared_error\n",
    "from sklearn.metrics import mean_absolute_error\n",
    "import math\n",
    "y_new_inverse3 = model.predict(x_test)\n",
    "mse33 = mean_squared_error(y_test, y_new_inverse3)\n",
    "mae33 = mean_absolute_error(y_test, y_new_inverse3)\n",
    "rmse33 = math.sqrt(mse33)\n",
    "print('mse : %.3f'%mse33)\n",
    "print('rmse : %.3f'%rmse33)\n",
    "print('mae : %.3f'%mae33)"
   ]
  },
  {
   "cell_type": "code",
   "execution_count": null,
   "metadata": {},
   "outputs": [],
   "source": [
    "import matplotlib\n",
    "import matplotlib.pyplot as plt\n",
    "from sklearn.metrics import median_absolute_error, r2_score\n",
    "plt.scatter(y_test,y_new_inverse3)\n",
    "plt.plot([0, 250], [0, 250], '--k')\n",
    "plt.ylabel('Predicted NOx')\n",
    "plt.xlabel('Actual NOx')\n",
    "plt.text(40,200,'NOx',fontsize=16)\n",
    "plt.text(29,180, r'$R^2$=%.2f'% (\n",
    "       r2_score(y_new_inverse3,y_test)),fontsize=12)\n",
    "plt.xlim([0, 250])\n",
    "plt.ylim([0, 250])"
   ]
  },
  {
   "cell_type": "code",
   "execution_count": null,
   "metadata": {},
   "outputs": [],
   "source": []
  }
 ],
 "metadata": {
  "kernelspec": {
   "display_name": "Python 3",
   "language": "python",
   "name": "python3"
  },
  "language_info": {
   "codemirror_mode": {
    "name": "ipython",
    "version": 3
   },
   "file_extension": ".py",
   "mimetype": "text/x-python",
   "name": "python",
   "nbconvert_exporter": "python",
   "pygments_lexer": "ipython3",
   "version": "3.7.3"
  }
 },
 "nbformat": 4,
 "nbformat_minor": 2
}
