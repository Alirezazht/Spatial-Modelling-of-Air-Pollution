{
 "cells": [
  {
   "cell_type": "code",
   "execution_count": null,
   "metadata": {},
   "outputs": [],
   "source": [
    "import pandas as pd\n",
    "data3 = pd.read_excel('Mobile.xlsx')\n",
    "data3.head()"
   ]
  },
  {
   "cell_type": "code",
   "execution_count": null,
   "metadata": {},
   "outputs": [],
   "source": [
    "X3 = data3[['CO','Temperature','Wind Speed','Wind Direction','X','Y']]\n",
    "X3 = X3.values\n",
    "Y3 = data3['Nox']\n",
    "Y3 = Y3.values\n",
    "from sklearn.preprocessing import StandardScaler\n",
    "sc_X3 = StandardScaler()\n",
    "sc_y3 = StandardScaler()\n",
    "X3_3 = sc_X3.fit_transform(X3)\n",
    "Y3_3 = Y3.reshape(-1,1)\n",
    "Y3_3 = sc_y3.fit_transform(Y3_3)\n",
    "\n",
    "from sklearn.model_selection import train_test_split\n",
    "\n",
    "x_train3, x_test3, y_train3, y_test3 = train_test_split(X3_3, Y3, test_size=0.3)"
   ]
  },
  {
   "cell_type": "code",
   "execution_count": null,
   "metadata": {},
   "outputs": [],
   "source": [
    "import keras\n",
    "from keras.layers import Dense\n",
    "from keras.models import Sequential\n",
    "model4 = Sequential()\n",
    "model4.add(Dense(17, activation='relu', input_dim=6))\n",
    "model4.add(Dense(20,activation = 'relu'))\n",
    "model4.add(Dense(40,activation = 'relu'))\n",
    "model4.add(Dense(50,activation = 'relu'))\n",
    "model4.add(Dense(1))\n",
    "model4.compile(optimizer='adam', loss='mse')\n",
    "\n",
    "model4.fit(x_train3, y_train3, epochs=200,batch_size=len(x_train3), verbose=0)"
   ]
  },
  {
   "cell_type": "code",
   "execution_count": null,
   "metadata": {},
   "outputs": [],
   "source": [
    "model4.evaluate(x_test3,y_test3)"
   ]
  },
  {
   "cell_type": "code",
   "execution_count": null,
   "metadata": {},
   "outputs": [],
   "source": [
    "from sklearn.metrics import mean_squared_error\n",
    "from sklearn.metrics import mean_absolute_error\n",
    "import math\n",
    "y_ord_pred1 = model4.predict(x_test3, verbose=0)\n",
    "mse330 = mean_squared_error(y_test3, y_ord_pred1)\n",
    "mae330 = mean_absolute_error(y_test3, y_ord_pred1)\n",
    "rmse330 = math.sqrt(mse330)\n",
    "print('mse : %.3f'%mse330)\n",
    "print('rmse : %.3f'%rmse330)\n",
    "print('mae : %.3f'%mae330)"
   ]
  },
  {
   "cell_type": "code",
   "execution_count": null,
   "metadata": {},
   "outputs": [],
   "source": [
    "import matplotlib\n",
    "import matplotlib.pyplot as plt\n",
    "from sklearn.metrics import median_absolute_error, r2_score\n",
    "plt.scatter(y_ord_pred1, y_test3)\n",
    "plt.plot([0, 600], [0, 600], '--k')\n",
    "plt.ylabel('True Target')\n",
    "plt.xlabel('Target predicted')\n",
    "plt.text(40,330,'NOx',fontsize=16)\n",
    "plt.text(25,300, r'$R^2$=%.2f'% (\n",
    "       r2_score(y_test3,y_ord_pred1)),fontsize=12)\n",
    "plt.xlim([0, 400])\n",
    "plt.ylim([0, 400])"
   ]
  },
  {
   "cell_type": "code",
   "execution_count": null,
   "metadata": {},
   "outputs": [],
   "source": [
    "import pandas as pd\n",
    "data500 = pd.read_excel('Mobile_500.xlsx')\n",
    "X500 = data500[['CO','Temprature','Wind Speed','Wind Direction','X','Y']]\n",
    "X500 = X500.values\n",
    "from sklearn.preprocessing import StandardScaler\n",
    "sc_X500 = StandardScaler()\n",
    "X500_500 = sc_X500.fit_transform(X500)\n",
    "y_500_PM = model4.predict(X500_500)\n",
    "import numpy as np\n",
    "o500 = np.array(y_500_PM)\n",
    "df500 = pd.DataFrame(o500,columns=['NOx_Mobile_500'])\n",
    "f_concat500 = pd.concat([df500],axis=1) \n",
    "f_concat500.to_excel('NOx_Mobile_500.xlsx')"
   ]
  },
  {
   "cell_type": "code",
   "execution_count": null,
   "metadata": {},
   "outputs": [],
   "source": [
    "import pandas as pd\n",
    "data750 = pd.read_excel('Mobile_750.xlsx')\n",
    "X_750 = data750[['CO','Temprature','Wind Speed','Wind Direction','X','Y']]\n",
    "X_750 = X_750.values\n",
    "from sklearn.preprocessing import StandardScaler\n",
    "sc_X750 = StandardScaler()\n",
    "X_750_750 = sc_X750.fit_transform(X_750)\n",
    "y_750_PM = model4.predict(X_750_750)\n",
    "import numpy as np\n",
    "o750 = np.array(y_750_PM)\n",
    "df750= pd.DataFrame(o750,columns=['NOx_Mobile_750'])\n",
    "f_concat750 = pd.concat([df750],axis=1) \n",
    "f_concat750.to_excel('NOx_Mobile_750.xlsx')"
   ]
  },
  {
   "cell_type": "code",
   "execution_count": null,
   "metadata": {},
   "outputs": [],
   "source": [
    "import pandas as pd\n",
    "data1000 = pd.read_excel('Mobile_1000.xlsx')\n",
    "X1000 = data1000[['CO','Temprature','Wind Speed','Wind Direction','X','Y']]\n",
    "X1000 = X1000.values\n",
    "from sklearn.preprocessing import StandardScaler\n",
    "sc_X1000 = StandardScaler()\n",
    "X1000_1000 = sc_X1000.fit_transform(X1000)\n",
    "y_1000_PM = model4.predict(X1000_1000)\n",
    "import numpy as np\n",
    "o1000 = np.array(y_1000_PM)\n",
    "df1000 = pd.DataFrame(o1000,columns=['NOx_Mobile_1000'])\n",
    "f_concat1000 = pd.concat([df1000],axis=1) \n",
    "f_concat1000.to_excel('NOx_Mobile_1000.xlsx')"
   ]
  },
  {
   "cell_type": "markdown",
   "metadata": {},
   "source": [
    "# Without CO"
   ]
  },
  {
   "cell_type": "code",
   "execution_count": null,
   "metadata": {},
   "outputs": [],
   "source": [
    "import pandas as pd\n",
    "data3 = pd.read_excel('Mobile.xlsx')\n",
    "data3.head()"
   ]
  },
  {
   "cell_type": "code",
   "execution_count": null,
   "metadata": {},
   "outputs": [],
   "source": [
    "X3 = data3[['Temperature','Wind Speed','Wind Direction','X','Y']]\n",
    "X3 = X3.values\n",
    "Y3 = data3['Nox']\n",
    "Y3 = Y3.values\n",
    "from sklearn.preprocessing import StandardScaler\n",
    "sc_X3 = StandardScaler()\n",
    "sc_y3 = StandardScaler()\n",
    "X3_3 = sc_X3.fit_transform(X3)\n",
    "Y3_3 = Y3.reshape(-1,1)\n",
    "Y3_3 = sc_y3.fit_transform(Y3_3)\n",
    "\n",
    "from sklearn.model_selection import train_test_split\n",
    "\n",
    "x_train3, x_test3, y_train3, y_test3 = train_test_split(X3_3, Y3, test_size=0.3)"
   ]
  },
  {
   "cell_type": "code",
   "execution_count": null,
   "metadata": {},
   "outputs": [],
   "source": [
    "import keras\n",
    "from keras.layers import Dense\n",
    "from keras.models import Sequential\n",
    "model4 = Sequential()\n",
    "model4.add(Dense(17, activation='relu', input_dim=5))\n",
    "model4.add(Dense(20,activation = 'relu'))\n",
    "model4.add(Dense(40,activation = 'relu'))\n",
    "model4.add(Dense(50,activation = 'relu'))\n",
    "model4.add(Dense(1))\n",
    "model4.compile(optimizer='adam', loss='mse')\n",
    "\n",
    "model4.fit(x_train3, y_train3, epochs=200,batch_size=len(x_train3), verbose=0)"
   ]
  },
  {
   "cell_type": "code",
   "execution_count": null,
   "metadata": {},
   "outputs": [],
   "source": [
    "model4.evaluate(x_test3,y_test3)"
   ]
  },
  {
   "cell_type": "code",
   "execution_count": null,
   "metadata": {},
   "outputs": [],
   "source": [
    "from sklearn.metrics import mean_squared_error\n",
    "from sklearn.metrics import mean_absolute_error\n",
    "import math\n",
    "y_ord_pred1 = model4.predict(x_test3, verbose=0)\n",
    "mse330 = mean_squared_error(y_test3, y_ord_pred1)\n",
    "mae330 = mean_absolute_error(y_test3, y_ord_pred1)\n",
    "rmse330 = math.sqrt(mse330)\n",
    "print('mse : %.3f'%mse330)\n",
    "print('rmse : %.3f'%rmse330)\n",
    "print('mae : %.3f'%mae330)"
   ]
  },
  {
   "cell_type": "code",
   "execution_count": null,
   "metadata": {},
   "outputs": [],
   "source": [
    "import matplotlib\n",
    "import matplotlib.pyplot as plt\n",
    "from sklearn.metrics import median_absolute_error, r2_score\n",
    "plt.scatter(y_ord_pred1, y_test3)\n",
    "plt.plot([0, 600], [0, 600], '--k')\n",
    "plt.ylabel('True Target')\n",
    "plt.xlabel('Target predicted')\n",
    "plt.text(40,330,'NOx',fontsize=16)\n",
    "plt.text(25,300, r'$R^2$=%.2f'% (\n",
    "       r2_score(y_test3,y_ord_pred1)),fontsize=12)\n",
    "plt.xlim([0, 400])\n",
    "plt.ylim([0, 400])"
   ]
  },
  {
   "cell_type": "code",
   "execution_count": null,
   "metadata": {},
   "outputs": [],
   "source": []
  }
 ],
 "metadata": {
  "kernelspec": {
   "display_name": "Python 3",
   "language": "python",
   "name": "python3"
  },
  "language_info": {
   "codemirror_mode": {
    "name": "ipython",
    "version": 3
   },
   "file_extension": ".py",
   "mimetype": "text/x-python",
   "name": "python",
   "nbconvert_exporter": "python",
   "pygments_lexer": "ipython3",
   "version": "3.7.3"
  }
 },
 "nbformat": 4,
 "nbformat_minor": 2
}
